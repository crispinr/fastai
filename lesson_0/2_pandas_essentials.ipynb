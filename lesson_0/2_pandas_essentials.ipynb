{
  "nbformat": 4,
  "nbformat_minor": 0,
  "metadata": {
    "colab": {
      "name": "2_pandas_essentials.ipynb",
      "provenance": [],
      "include_colab_link": true
    },
    "kernelspec": {
      "name": "python3",
      "display_name": "Python 3"
    },
    "language_info": {
      "name": "python"
    }
  },
  "cells": [
    {
      "cell_type": "markdown",
      "metadata": {
        "id": "view-in-github",
        "colab_type": "text"
      },
      "source": [
        "<a href=\"https://colab.research.google.com/github/dhivya910/fastai/blob/main/lesson_0/2_pandas_essentials.ipynb\" target=\"_parent\"><img src=\"https://colab.research.google.com/assets/colab-badge.svg\" alt=\"Open In Colab\"/></a>"
      ]
    },
    {
      "cell_type": "markdown",
      "metadata": {
        "id": "N8_79QgQpjxl"
      },
      "source": [
        "# **IMPORTANT**: Please avoid creating unnecessary DataFrames: use the DataFrames declared in section 1; create additional DataFrames only if necessary!"
      ]
    },
    {
      "cell_type": "markdown",
      "metadata": {
        "id": "dtJwHdenpUAI"
      },
      "source": [
        "# **Pandas Essentials**\n",
        "pandas is an open source, BSD-licensed library providing high-performance, easy-to-use data structures and data analysis tools for the Python programming language.\n",
        "\n",
        "## **What kind of data does pandas handle?**\n",
        "When working with tabular data, such as data stored in spreadsheets or databases, pandas is the right tool for you. pandas will help you to explore, clean, and process your data. In pandas, a data table is called a DataFrame.\n",
        "\n",
        "pandas supports the integration with many file formats or data sources out of the box (csv, excel, sql, json, parquet,…). Importing data from each of these data sources is provided by function with the prefix read_\\*. Similarly, the to_\\* methods are used to store data.\n",
        "\n",
        "\n",
        "---\n",
        "\n",
        "\n",
        "\n"
      ]
    },
    {
      "cell_type": "markdown",
      "metadata": {
        "id": "qxoXAsmTrxsV"
      },
      "source": [
        "# 0. Import necessary  modules\n",
        "Import pandas and NumPy"
      ]
    },
    {
      "cell_type": "code",
      "metadata": {
        "id": "nwQHQbZzr6bt"
      },
      "source": [
        "import pandas as pd\n",
        "import numpy as np"
      ],
      "execution_count": 16,
      "outputs": []
    },
    {
      "cell_type": "markdown",
      "metadata": {
        "id": "vZ0kOnbtq4Qj"
      },
      "source": [
        "# 1. Creating a DataFrame\n",
        "Pandas DataFrame is a 2-dimensional labeled data structure with columns of potentially different types. It is generally the most commonly used pandas object.\n",
        "Pandas DataFrame can be created in multiple ways, a few include:\n",
        " - Method 1: Creating Pandas DataFrame from lists of lists.\n",
        " - Method 2: Creating DataFrame from dict of narray/lists\n",
        " - Method 3: Creating an indexes DataFrame using arrays.\n",
        " - Method 4: Creating DataFrame from list of dicts\n",
        " - Method 5: Creating DataFrame using zip() function: two lists can be merged by using list(zip()) function\n",
        " - Method 6: Creating a DataFrame from a NumPy array and specify the index column and column headers\n",
        " - Method 7: Creating an empty DataFrame\n",
        "\n",
        "Feel free to add any other method that you discover!"
      ]
    },
    {
      "cell_type": "code",
      "metadata": {
        "id": "23aqqZkxpQxx",
        "outputId": "d20a5ad6-5a65-4f7c-c6f5-044cc108d089",
        "colab": {
          "base_uri": "https://localhost:8080/",
          "height": 142
        }
      },
      "source": [
        "# Creating Pandas DataFrame from lists of lists\n",
        "\n",
        "x = [['Ken', 'CSE'], ['Den', 'ECE'], ['Ben', 'IT']]\n",
        "df = pd.DataFrame(x, columns = ['Name', 'Dept'])\n",
        "df"
      ],
      "execution_count": 4,
      "outputs": [
        {
          "output_type": "execute_result",
          "data": {
            "text/html": [
              "<div>\n",
              "<style scoped>\n",
              "    .dataframe tbody tr th:only-of-type {\n",
              "        vertical-align: middle;\n",
              "    }\n",
              "\n",
              "    .dataframe tbody tr th {\n",
              "        vertical-align: top;\n",
              "    }\n",
              "\n",
              "    .dataframe thead th {\n",
              "        text-align: right;\n",
              "    }\n",
              "</style>\n",
              "<table border=\"1\" class=\"dataframe\">\n",
              "  <thead>\n",
              "    <tr style=\"text-align: right;\">\n",
              "      <th></th>\n",
              "      <th>Name</th>\n",
              "      <th>Dept</th>\n",
              "    </tr>\n",
              "  </thead>\n",
              "  <tbody>\n",
              "    <tr>\n",
              "      <th>0</th>\n",
              "      <td>Ken</td>\n",
              "      <td>CSE</td>\n",
              "    </tr>\n",
              "    <tr>\n",
              "      <th>1</th>\n",
              "      <td>Den</td>\n",
              "      <td>ECE</td>\n",
              "    </tr>\n",
              "    <tr>\n",
              "      <th>2</th>\n",
              "      <td>Ben</td>\n",
              "      <td>IT</td>\n",
              "    </tr>\n",
              "  </tbody>\n",
              "</table>\n",
              "</div>"
            ],
            "text/plain": [
              "  Name Dept\n",
              "0  Ken  CSE\n",
              "1  Den  ECE\n",
              "2  Ben   IT"
            ]
          },
          "metadata": {},
          "execution_count": 4
        }
      ]
    },
    {
      "cell_type": "code",
      "metadata": {
        "id": "WrB5e-fAtosE",
        "outputId": "dea39744-b21e-471e-ca86-b6c4aab66040",
        "colab": {
          "base_uri": "https://localhost:8080/",
          "height": 142
        }
      },
      "source": [
        "# Creating DataFrame from dict of narray/lists\n",
        "\n",
        "x = {'Name':['Ken', 'Den', 'Ben'],\n",
        "        'Dept':['CSE', 'ECE', 'IT']}\n",
        "df = pd.DataFrame(x)\n",
        "df"
      ],
      "execution_count": 5,
      "outputs": [
        {
          "output_type": "execute_result",
          "data": {
            "text/html": [
              "<div>\n",
              "<style scoped>\n",
              "    .dataframe tbody tr th:only-of-type {\n",
              "        vertical-align: middle;\n",
              "    }\n",
              "\n",
              "    .dataframe tbody tr th {\n",
              "        vertical-align: top;\n",
              "    }\n",
              "\n",
              "    .dataframe thead th {\n",
              "        text-align: right;\n",
              "    }\n",
              "</style>\n",
              "<table border=\"1\" class=\"dataframe\">\n",
              "  <thead>\n",
              "    <tr style=\"text-align: right;\">\n",
              "      <th></th>\n",
              "      <th>Name</th>\n",
              "      <th>Dept</th>\n",
              "    </tr>\n",
              "  </thead>\n",
              "  <tbody>\n",
              "    <tr>\n",
              "      <th>0</th>\n",
              "      <td>Ken</td>\n",
              "      <td>CSE</td>\n",
              "    </tr>\n",
              "    <tr>\n",
              "      <th>1</th>\n",
              "      <td>Den</td>\n",
              "      <td>ECE</td>\n",
              "    </tr>\n",
              "    <tr>\n",
              "      <th>2</th>\n",
              "      <td>Ben</td>\n",
              "      <td>IT</td>\n",
              "    </tr>\n",
              "  </tbody>\n",
              "</table>\n",
              "</div>"
            ],
            "text/plain": [
              "  Name Dept\n",
              "0  Ken  CSE\n",
              "1  Den  ECE\n",
              "2  Ben   IT"
            ]
          },
          "metadata": {},
          "execution_count": 5
        }
      ]
    },
    {
      "cell_type": "code",
      "metadata": {
        "id": "3gBtsYmStq3D",
        "outputId": "b83a8baf-87b2-4f9b-c595-e73653aa705d",
        "colab": {
          "base_uri": "https://localhost:8080/",
          "height": 142
        }
      },
      "source": [
        "# Creating an indexes DataFrame using arrays.\n",
        "\n",
        "x = {'Name':['Ken', 'Den', 'Ben'],\n",
        "        'League':['Gold', 'Silver', 'Copper']}\n",
        "df = pd.DataFrame(x, index =[1, 2, 3])\n",
        "df"
      ],
      "execution_count": 8,
      "outputs": [
        {
          "output_type": "execute_result",
          "data": {
            "text/html": [
              "<div>\n",
              "<style scoped>\n",
              "    .dataframe tbody tr th:only-of-type {\n",
              "        vertical-align: middle;\n",
              "    }\n",
              "\n",
              "    .dataframe tbody tr th {\n",
              "        vertical-align: top;\n",
              "    }\n",
              "\n",
              "    .dataframe thead th {\n",
              "        text-align: right;\n",
              "    }\n",
              "</style>\n",
              "<table border=\"1\" class=\"dataframe\">\n",
              "  <thead>\n",
              "    <tr style=\"text-align: right;\">\n",
              "      <th></th>\n",
              "      <th>Name</th>\n",
              "      <th>League</th>\n",
              "    </tr>\n",
              "  </thead>\n",
              "  <tbody>\n",
              "    <tr>\n",
              "      <th>1</th>\n",
              "      <td>Ken</td>\n",
              "      <td>Gold</td>\n",
              "    </tr>\n",
              "    <tr>\n",
              "      <th>2</th>\n",
              "      <td>Den</td>\n",
              "      <td>Silver</td>\n",
              "    </tr>\n",
              "    <tr>\n",
              "      <th>3</th>\n",
              "      <td>Ben</td>\n",
              "      <td>Copper</td>\n",
              "    </tr>\n",
              "  </tbody>\n",
              "</table>\n",
              "</div>"
            ],
            "text/plain": [
              "  Name  League\n",
              "1  Ken    Gold\n",
              "2  Den  Silver\n",
              "3  Ben  Copper"
            ]
          },
          "metadata": {},
          "execution_count": 8
        }
      ]
    },
    {
      "cell_type": "code",
      "metadata": {
        "id": "hRKKjH1ztt2R",
        "outputId": "cf1aa75b-c5fa-4783-86e2-d5b0c2a4380c",
        "colab": {
          "base_uri": "https://localhost:8080/",
          "height": 111
        }
      },
      "source": [
        "# Creating DataFrame from list of dicts\n",
        "\n",
        "x = [{'Ken': 1, 'Den': 2, 'Ben':3}, \n",
        "        {'Ken':'Gold', 'Den': 'Silver', 'Ben': 'Copper'}]\n",
        "df = pd.DataFrame(x, index =['Place', 'League'])\n",
        "df"
      ],
      "execution_count": 11,
      "outputs": [
        {
          "output_type": "execute_result",
          "data": {
            "text/html": [
              "<div>\n",
              "<style scoped>\n",
              "    .dataframe tbody tr th:only-of-type {\n",
              "        vertical-align: middle;\n",
              "    }\n",
              "\n",
              "    .dataframe tbody tr th {\n",
              "        vertical-align: top;\n",
              "    }\n",
              "\n",
              "    .dataframe thead th {\n",
              "        text-align: right;\n",
              "    }\n",
              "</style>\n",
              "<table border=\"1\" class=\"dataframe\">\n",
              "  <thead>\n",
              "    <tr style=\"text-align: right;\">\n",
              "      <th></th>\n",
              "      <th>Ken</th>\n",
              "      <th>Den</th>\n",
              "      <th>Ben</th>\n",
              "    </tr>\n",
              "  </thead>\n",
              "  <tbody>\n",
              "    <tr>\n",
              "      <th>Place</th>\n",
              "      <td>1</td>\n",
              "      <td>2</td>\n",
              "      <td>3</td>\n",
              "    </tr>\n",
              "    <tr>\n",
              "      <th>League</th>\n",
              "      <td>Gold</td>\n",
              "      <td>Silver</td>\n",
              "      <td>Copper</td>\n",
              "    </tr>\n",
              "  </tbody>\n",
              "</table>\n",
              "</div>"
            ],
            "text/plain": [
              "         Ken     Den     Ben\n",
              "Place      1       2       3\n",
              "League  Gold  Silver  Copper"
            ]
          },
          "metadata": {},
          "execution_count": 11
        }
      ]
    },
    {
      "cell_type": "code",
      "metadata": {
        "id": "J9MplEpWtvKb",
        "outputId": "11cca3b2-60cb-4912-f103-f035931f13a8",
        "colab": {
          "base_uri": "https://localhost:8080/",
          "height": 142
        }
      },
      "source": [
        "# Creating DataFrame using zip() function: two lists can be merged by using list(zip()) function\n",
        "\n",
        "Name = ['Ken', 'Ben', 'Den']\n",
        "Age = [18, 19, 20]\n",
        "y = list(zip(Name, Age)) \n",
        "df = pd.DataFrame(y, columns = ['Name', 'Age'])\n",
        "df"
      ],
      "execution_count": 12,
      "outputs": [
        {
          "output_type": "execute_result",
          "data": {
            "text/html": [
              "<div>\n",
              "<style scoped>\n",
              "    .dataframe tbody tr th:only-of-type {\n",
              "        vertical-align: middle;\n",
              "    }\n",
              "\n",
              "    .dataframe tbody tr th {\n",
              "        vertical-align: top;\n",
              "    }\n",
              "\n",
              "    .dataframe thead th {\n",
              "        text-align: right;\n",
              "    }\n",
              "</style>\n",
              "<table border=\"1\" class=\"dataframe\">\n",
              "  <thead>\n",
              "    <tr style=\"text-align: right;\">\n",
              "      <th></th>\n",
              "      <th>Name</th>\n",
              "      <th>Age</th>\n",
              "    </tr>\n",
              "  </thead>\n",
              "  <tbody>\n",
              "    <tr>\n",
              "      <th>0</th>\n",
              "      <td>Ken</td>\n",
              "      <td>18</td>\n",
              "    </tr>\n",
              "    <tr>\n",
              "      <th>1</th>\n",
              "      <td>Ben</td>\n",
              "      <td>19</td>\n",
              "    </tr>\n",
              "    <tr>\n",
              "      <th>2</th>\n",
              "      <td>Den</td>\n",
              "      <td>20</td>\n",
              "    </tr>\n",
              "  </tbody>\n",
              "</table>\n",
              "</div>"
            ],
            "text/plain": [
              "  Name  Age\n",
              "0  Ken   18\n",
              "1  Ben   19\n",
              "2  Den   20"
            ]
          },
          "metadata": {},
          "execution_count": 12
        }
      ]
    },
    {
      "cell_type": "code",
      "metadata": {
        "id": "3DEfOkwHtxII",
        "outputId": "302ed686-9004-4811-b4cc-68b1e0054818",
        "colab": {
          "base_uri": "https://localhost:8080/"
        }
      },
      "source": [
        "# Creating a DataFrame from a NumPy array and specify the index column and column headers\n",
        "\n",
        "array = np.array([['Ken', 'CSE'], ['Den', 'ECE'], ['Ben', 'IT']])\n",
        "  \n",
        "x = [1, 2, 3]\n",
        "   \n",
        "# creating a list of column names\n",
        "y = ['Name', 'Dept']\n",
        "  \n",
        "# creating the dataframe\n",
        "df = pd.DataFrame(data = array, index = x, columns = y)\n",
        "  \n",
        "# displaying the dataframe\n",
        "print(df)\n"
      ],
      "execution_count": 15,
      "outputs": [
        {
          "output_type": "stream",
          "name": "stdout",
          "text": [
            "  Name Dept\n",
            "1  Ken  CSE\n",
            "2  Den  ECE\n",
            "3  Ben   IT\n"
          ]
        }
      ]
    },
    {
      "cell_type": "code",
      "metadata": {
        "id": "etIiJe_IvbA0",
        "outputId": "21d6dc5f-349a-418c-9703-a39751ff306a",
        "colab": {
          "base_uri": "https://localhost:8080/"
        }
      },
      "source": [
        "# Creating an empty DataFrame\n",
        "\n",
        "df = pd.DataFrame()\n",
        "  \n",
        "print(df)"
      ],
      "execution_count": 13,
      "outputs": [
        {
          "output_type": "stream",
          "name": "stdout",
          "text": [
            "Empty DataFrame\n",
            "Columns: []\n",
            "Index: []\n"
          ]
        }
      ]
    },
    {
      "cell_type": "markdown",
      "metadata": {
        "id": "D8wf9LPWuy_m"
      },
      "source": [
        "# 2. Fundamental DataFrame Operations\n",
        "- Select an Index or Column from a DataFrame\n",
        "- Add an Index, Row or Column to a DataFrame\n",
        "- Delete Indices, Rows or Columns from a DataFrame\n",
        "- Rename the Indices or Columns of a DataFrame\n",
        "- Iterate over a DataFrame\n",
        "\n",
        "Feel free to any any other important operations that you know!"
      ]
    },
    {
      "cell_type": "code",
      "metadata": {
        "id": "aycB7UMTv5GL"
      },
      "source": [
        "# Select an index\n",
        "\n",
        "\n",
        "# Select a column\n",
        "\n"
      ],
      "execution_count": null,
      "outputs": []
    },
    {
      "cell_type": "code",
      "metadata": {
        "id": "b-0KuvQ1v9Ku"
      },
      "source": [
        "# Add an index\n",
        "\n",
        "\n",
        "# Add a row\n",
        "\n",
        "\n",
        "# Add a column\n",
        "\n"
      ],
      "execution_count": null,
      "outputs": []
    },
    {
      "cell_type": "code",
      "metadata": {
        "id": "D5Zpr-shwMVO"
      },
      "source": [
        "# Delete an index\n",
        "\n",
        "\n",
        "# Delete a row\n",
        "\n",
        "\n",
        "# Delete a column\n",
        "\n"
      ],
      "execution_count": null,
      "outputs": []
    },
    {
      "cell_type": "code",
      "metadata": {
        "id": "_7ZMNS7HwP6E"
      },
      "source": [
        "# Rename an index\n",
        "\n",
        "\n",
        "# Rename a column\n",
        "\n"
      ],
      "execution_count": null,
      "outputs": []
    },
    {
      "cell_type": "code",
      "metadata": {
        "id": "P60uCDnKwW5K"
      },
      "source": [
        "# Iterate over a DataFrame: row-wise\n",
        "\n",
        "\n",
        "# Iterate over a DataFrame: column-wise\n",
        "\n"
      ],
      "execution_count": null,
      "outputs": []
    },
    {
      "cell_type": "markdown",
      "metadata": {
        "id": "2vwFJYaXyKPC"
      },
      "source": [
        "# 3. Attributes of a DataFrame\n",
        "A DataFrame has attributes! Understand the DataFrame by going through the attributes of the DataFrame class.\n",
        "This section is completely open, unstructured!\n",
        "Please go ahead and add all the interesting attributes you've discovered! (Mention appropriate description as comments for the same)"
      ]
    },
    {
      "cell_type": "code",
      "metadata": {
        "id": "kqcRAMI9y63-"
      },
      "source": [
        "# Drop all your discovered attributes here!"
      ],
      "execution_count": null,
      "outputs": []
    },
    {
      "cell_type": "markdown",
      "metadata": {
        "id": "pXW6n8K9y_J5"
      },
      "source": [
        "# 4. Methods of a DataFrame\n",
        "Explore DataFrame capabilities through its methods!\n",
        "This section is completely open, unstructured!\n",
        "Please go ahead and add all the interesting methods you've discovered! (Mention appropriate description as comments for the same)\n",
        "\n",
        "## *Warning: Do not repeat the methods in the following section!*"
      ]
    },
    {
      "cell_type": "code",
      "metadata": {
        "id": "TAm4nzmGzd_R"
      },
      "source": [
        "# Drop all your discovered methods here!"
      ],
      "execution_count": null,
      "outputs": []
    },
    {
      "cell_type": "markdown",
      "metadata": {
        "id": "cWOnFhM41WSJ"
      },
      "source": [
        "# 5. 15 most important pandas functions that you should know!\n",
        "- read_csv()\n",
        "- to_csv()\n",
        "- head()\n",
        "- describe()\n",
        "- memory_usage()\n",
        "- astype()\n",
        "- loc[:]\n",
        "- to_datetime()\n",
        "- value_counts()\n",
        "- groupby()\n",
        "- drop_duplicates()\n",
        "- merge()\n",
        "- sort_values()\n",
        "- fillna()\n",
        "- corr()"
      ]
    },
    {
      "cell_type": "code",
      "metadata": {
        "id": "TN-STh5W1bcI"
      },
      "source": [
        "# read_csv()"
      ],
      "execution_count": null,
      "outputs": []
    },
    {
      "cell_type": "code",
      "metadata": {
        "id": "Ln6lCaa35YVs"
      },
      "source": [
        "# to_csv()"
      ],
      "execution_count": null,
      "outputs": []
    },
    {
      "cell_type": "code",
      "metadata": {
        "id": "GNWBmMCM5Zux"
      },
      "source": [
        "# head()"
      ],
      "execution_count": null,
      "outputs": []
    },
    {
      "cell_type": "code",
      "metadata": {
        "id": "TiRyHGDh5bYm"
      },
      "source": [
        "# describe()"
      ],
      "execution_count": null,
      "outputs": []
    },
    {
      "cell_type": "code",
      "metadata": {
        "id": "LV9MDo0X5csy"
      },
      "source": [
        "# memory_usage()"
      ],
      "execution_count": null,
      "outputs": []
    },
    {
      "cell_type": "code",
      "metadata": {
        "id": "yi5M66Ox5d6F"
      },
      "source": [
        "# astype()"
      ],
      "execution_count": null,
      "outputs": []
    },
    {
      "cell_type": "code",
      "metadata": {
        "id": "oQkeWSBq5fr_"
      },
      "source": [
        "# loc[:]"
      ],
      "execution_count": null,
      "outputs": []
    },
    {
      "cell_type": "code",
      "metadata": {
        "id": "l2RkrzSS5hau"
      },
      "source": [
        "# to_datetime()"
      ],
      "execution_count": null,
      "outputs": []
    },
    {
      "cell_type": "code",
      "metadata": {
        "id": "YBS1oKJU5jOL"
      },
      "source": [
        "# value_counts()"
      ],
      "execution_count": null,
      "outputs": []
    },
    {
      "cell_type": "code",
      "metadata": {
        "id": "YRuETE2X5nF-"
      },
      "source": [
        "# groupby()"
      ],
      "execution_count": null,
      "outputs": []
    },
    {
      "cell_type": "code",
      "metadata": {
        "id": "_w_nFWwc5m8h"
      },
      "source": [
        "# drop_duplicates()"
      ],
      "execution_count": null,
      "outputs": []
    },
    {
      "cell_type": "code",
      "metadata": {
        "id": "VBv7mYgH5mz_"
      },
      "source": [
        "# merge()"
      ],
      "execution_count": null,
      "outputs": []
    },
    {
      "cell_type": "code",
      "metadata": {
        "id": "B8kkz4gW5mSo"
      },
      "source": [
        "# sort_values()"
      ],
      "execution_count": null,
      "outputs": []
    },
    {
      "cell_type": "code",
      "metadata": {
        "id": "kfTwNteC5mI-"
      },
      "source": [
        "# fillna()"
      ],
      "execution_count": null,
      "outputs": []
    },
    {
      "cell_type": "code",
      "metadata": {
        "id": "04vNimsG5tly"
      },
      "source": [
        "# corr()"
      ],
      "execution_count": null,
      "outputs": []
    }
  ]
}