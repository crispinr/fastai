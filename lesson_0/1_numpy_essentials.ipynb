{
  "nbformat": 4,
  "nbformat_minor": 0,
  "metadata": {
    "accelerator": "GPU",
    "colab": {
      "name": "1_numpy_essentials.ipynb",
      "provenance": [],
      "include_colab_link": true
    },
    "interpreter": {
      "hash": "ac59ebe37160ed0dfa835113d9b8498d9f09ceb179beaac4002f036b9467c963"
    },
    "kernelspec": {
      "display_name": "Python 3.9.5 64-bit",
      "name": "python3"
    },
    "language_info": {
      "codemirror_mode": {
        "name": "ipython",
        "version": 3
      },
      "file_extension": ".py",
      "mimetype": "text/x-python",
      "name": "python",
      "nbconvert_exporter": "python",
      "pygments_lexer": "ipython3",
      "version": "3.9.5"
    }
  },
  "cells": [
    {
      "cell_type": "markdown",
      "metadata": {
        "id": "view-in-github",
        "colab_type": "text"
      },
      "source": [
        "<a href=\"https://colab.research.google.com/github/rahwinside/fastai/blob/main/lesson_0/1_numpy_essentials.ipynb\" target=\"_parent\"><img src=\"https://colab.research.google.com/assets/colab-badge.svg\" alt=\"Open In Colab\"/></a>"
      ]
    },
    {
      "cell_type": "markdown",
      "metadata": {
        "id": "DgtsvALoxjKB"
      },
      "source": [
        "# **IMPORTANT**: Please avoid creating unnecessary arrays: use the arrays declared in section 1; create additional arrays only if necessary!"
      ]
    },
    {
      "cell_type": "markdown",
      "metadata": {
        "id": "xlcUVM0FiM7v"
      },
      "source": [
        "# **NumPy Essentials**\n",
        "\n",
        "NumPy is the fundamental package for scientific computing in Python. It is a Python library that provides a multidimensional array object, various derived objects (such as masked arrays and matrices), and an assortment of routines for fast operations on arrays, including mathematical, logical, shape manipulation, sorting, selecting, I/O, discrete Fourier transforms, basic linear algebra, basic statistical operations, random simulation and much more. This library is widely used for numerical analysis, matrix computations, and mathematical operations.\n",
        "\n",
        "At the core of the NumPy package, is the ndarray object. This encapsulates n-dimensional arrays of homogeneous data types, with many operations being performed in compiled code for performance. There are several important differences between NumPy arrays and the standard Python sequences:\n",
        "\n",
        "- NumPy arrays have a fixed size at creation, unlike Python lists (which can grow dynamically). Changing the size of an ndarray will create a new array and delete the original.\n",
        "\n",
        "- The elements in a NumPy array are all required to be of the same data type, and thus will be the same size in memory. The exception: one can have arrays of (Python, including NumPy) objects, thereby allowing for arrays of different sized elements.\n",
        "\n",
        "- NumPy arrays facilitate advanced mathematical and other types of operations on large numbers of data. Typically, such operations are executed more efficiently and with less code than is possible using Python’s built-in sequences.\n",
        "\n",
        "- A growing plethora of scientific and mathematical Python-based packages are using NumPy arrays; though these typically support Python-sequence input, they convert such input to NumPy arrays prior to processing, and they often output NumPy arrays. In other words, in order to efficiently use much (perhaps even most) of today’s scientific/mathematical Python-based software, just knowing how to use Python’s built-in sequence types is insufficient - one also needs to know how to use NumPy arrays.\n",
        "\n",
        "---\n",
        "\n"
      ]
    },
    {
      "cell_type": "markdown",
      "metadata": {
        "id": "xLdpd6GKrBte"
      },
      "source": [
        "# 0. Import the NumPy module"
      ]
    },
    {
      "cell_type": "code",
      "metadata": {
        "id": "uu0uEp49rGKh"
      },
      "source": [
        "import numpy as np"
      ],
      "execution_count": 3,
      "outputs": []
    },
    {
      "cell_type": "markdown",
      "metadata": {
        "id": "QOS0Or4Xjjuu"
      },
      "source": [
        "# 1. Creating an array\n",
        "\n",
        "Create an 1D, 2D and a 3D array."
      ]
    },
    {
      "cell_type": "code",
      "metadata": {
        "id": "vmkYB3wVhccv"
      },
      "source": [
        "# TODO: create 1D array\n",
        "arr1=np.array([10, 20, 30, 40, 50])\n",
        "\n",
        "# TODO: create 2D array\n",
        "arr2=np.array([[0, 2, 4],[1, 3, 5]])\n",
        "\n",
        "# TODO: create 3D array\n",
        "arr3=np.array([0,1,2], ndmin=3)"
      ],
      "execution_count": 5,
      "outputs": []
    },
    {
      "cell_type": "markdown",
      "metadata": {
        "id": "KTHL7EUIj1v6"
      },
      "source": [
        "# 2. Basic array operations\n",
        "\n",
        "- Add, subtract, multiply and divide two arrays\n",
        "- Initialize an array of zeroes\n",
        "- Initialize an array of ones\n",
        "- Printing an array\n",
        "\n"
      ]
    },
    {
      "cell_type": "code",
      "metadata": {
        "id": "GzS5EuIYsW2H",
        "outputId": "5a39f5fb-8a95-4067-f3d3-685046857968"
      },
      "source": [
        "arr2=np.array([5, 15, 4, 25, 10])\n",
        "# TODO: print an array\n",
        "print(\"First Array: {}\".format(arr1))\n",
        "print(\"Second Array: {}\".format(arr2))\n",
        "\n",
        "# TODO: add arrays\n",
        "print(\"Added Array: {}\".format(np.add(arr1, arr2)))\n",
        "\n",
        "# TODO: subtract arrays\n",
        "print(\"Subtracted Array: {}\".format(np.subtract(arr1, arr2)))\n",
        "\n",
        "# TODO: multiply arrays\n",
        "print(\"Multiplied Array: {}\".format(np.multiply(arr1, arr2)))\n",
        "\n",
        "# TODO: divide arrays\n",
        "print(\"Divided Array: {}\".format(np.divide(arr1, arr2)))    "
      ],
      "execution_count": null,
      "outputs": [
        {
          "name": "stdout",
          "output_type": "stream",
          "text": [
            "First Array: [10 20 30 40 50]\n",
            "Second Array: [ 5 15  4 25 10]\n",
            "Added Array: [15 35 34 65 60]\n",
            "Subtracted Array: [ 5  5 26 15 40]\n",
            "Multiplied Array: [  50  300  120 1000  500]\n",
            "Divided Array: [2.         1.33333333 7.5        1.6        5.        ]\n"
          ]
        }
      ]
    },
    {
      "cell_type": "markdown",
      "metadata": {
        "id": "5A11rtzItx8P"
      },
      "source": [
        "# 3. Arrays, into it!\n",
        "- Indexing and slicing an array\n",
        "- Print n th row of a 2D array\n",
        "- Print n th column of a 2D array\n",
        "- Reshape an array\n",
        "- Stacking multiple arrays\n",
        "- Deep copy and Shallow copy"
      ]
    },
    {
      "cell_type": "code",
      "metadata": {
        "id": "CaZK6aDOvPHC",
        "outputId": "921ca6cf-54ba-4edb-8413-58363d511084"
      },
      "source": [
        "# TODO: indexing and slicing an array\n",
        "print(\"Array Index no 2 : {}\".format(arr1[1]))\n",
        "print(\"Slice of Array (last 3 elements): {}\".format(arr1[-3:]))\n",
        "print(\"Slice of Array (elements 1 to 4): {}\".format(arr1[0:4]))\n",
        "\n",
        "# TODO: Print n th row of a 2D array\n",
        "arr3=np.array([[1,2,3],[4,5,6],[7,8,9]])\n",
        "print(\"2nd row: {}\".format(arr3[1,:]))\n",
        "\n",
        "# TODO: Print n th column of a 2D array\n",
        "print(\"1st column: {}\".format(arr3[:,0]))\n",
        "\n",
        "# TODO: Stacking multiple arrays\n",
        "print(\"Stacked Arrays: {}\".format(np.stack((arr1,arr2),0)))\n",
        "\n",
        "# TODO: Reshape an array\n",
        "print(\"2D Array flattened as 1D: {}\".format(arr3.flatten()))\n",
        "print(\"1D Array reshaped as 5x2: \\n{}\".format(np.stack((arr1,arr2),0).reshape(5,2)))\n",
        "\n",
        "# TODO: Deep copy and Shallow copy\n",
        "a=np.array([1,2,3])\n",
        "b=a.view()\n",
        "a[0]=10\n",
        "a=a.reshape(1,3)\n",
        "print(\"For Shallow copy shape changes to a do not occur in b but memory changes are common\")\n",
        "print(a)\n",
        "print(b)\n",
        "print(\"For Deep Copy memory changes in a do not occur in b\")\n",
        "a=a.flatten()\n",
        "b=a.copy()\n",
        "a[0]=999\n",
        "print(a)\n",
        "print(b)\n"
      ],
      "execution_count": null,
      "outputs": [
        {
          "name": "stdout",
          "output_type": "stream",
          "text": [
            "Array Index no 2 : 20\n",
            "Slice of Array (last 3 elements): [30 40 50]\n",
            "Slice of Array (elements 1 to 4): [10 20 30 40]\n",
            "2nd row: [4 5 6]\n",
            "1st column: [1 4 7]\n",
            "Stacked Arrays: [[10 20 30 40 50]\n",
            " [ 5 15  4 25 10]]\n",
            "2D Array flattened as 1D: [1 2 3 4 5 6 7 8 9]\n",
            "1D Array reshaped as 5x2: \n",
            "[[10 20]\n",
            " [30 40]\n",
            " [50  5]\n",
            " [15  4]\n",
            " [25 10]]\n",
            "For Shallow copy shape changes to a do not occur in b but memory changes are common\n",
            "[[10  2  3]]\n",
            "[10  2  3]\n",
            "For Deep Copy memory changes in a do not occur in b\n",
            "[999   2   3]\n",
            "[10  2  3]\n"
          ]
        }
      ]
    },
    {
      "cell_type": "markdown",
      "metadata": {
        "id": "-Hk1NjeXuLHg"
      },
      "source": [
        "# 4. NumPy methods\n",
        "NumPy has useful methods that simplify and allow greater degree of manipulation of arrays.\n",
        "This section is completely open, unstructured!\n",
        "Please go ahead and add all the interesting methods you've discovered! (Mention appropriate description as comments for the same)"
      ]
    },
    {
      "cell_type": "code",
      "metadata": {
        "id": "HvLafvyauwb_",
        "colab": {
          "base_uri": "https://localhost:8080/"
        },
        "outputId": "26d6659e-a678-4008-b808-85a84d4894df"
      },
      "source": [
        "#To copy and array to another\n",
        "arr4= np.array([8,12,32,4,1])\n",
        "np.copyto(arr4,arr1)\n",
        "print(\"Copied array:\",arr4)\n",
        "\n",
        "#Return the shape of an array\n",
        "np.shape([[1,2,3]])\n",
        "\n",
        "#Gives a new shape to an array without changing its data\n",
        "a = np.arange(10).reshape((2,5))\n",
        "print(a)\n",
        "\n",
        "#To get transpose of an array\n",
        "arr = [[2,4,5],[3,6,7]]\n",
        "print(\"Transposed array:\",np.transpose(arr))\n",
        "\n",
        "#To remove axes of length one \n",
        "arr4=np.array([[1,2]])\n",
        "print(\"Squezed array:\",np.squeeze(arr4))\n",
        "\n",
        "#To split an array into sub array\n",
        "xarr=np.array([3,4,5,9,0,7])\n",
        "print(\"Sub arrays': \",np.split(xarr, 3))\n",
        "\n",
        "#To repeat elements of an array\n",
        "print(\"Modified array: \",np.repeat(xarr,3))\n",
        "\n",
        "#To repeat an array\n",
        "print(np.tile(arr1,2))\n",
        "\n",
        "#To find unique elements of array\n",
        "uarr = np.array([1,2,4,3,3,2,1,])\n",
        "print(\"Unique elements of array: \",np.unique(uarr))\n",
        "\n",
        "#To insert elements in an array\n",
        "print(\"Array after insertion: \",np.insert(xarr,3,1))\n",
        "\n",
        "#To add elements to the end of the array\n",
        "print(\"Array after insertion at the end: \",np.append(xarr,[2,3]))\n",
        "\n",
        "#To roll array elements\n",
        "barr = np.arange(5)\n",
        "print(np.roll(barr, 3))\n",
        "\n",
        "#To delete elements of an array\n",
        "print(\"Array after deletion: \",np.delete(arr,1,1))\n",
        "\n",
        "#To reverse\n",
        "print(\"Reveresed array: \",np.flip(xarr))\n",
        "\n",
        "#To assemble an nd-array from nested lists of blocks\n",
        "y = np.array([11,12,13])\n",
        "z = np.array([15,16,18])\n",
        "print(np.block([y,z, 20]))\n",
        "\n",
        "#To return a contiguous flattened array\n",
        "x = np.array([[11,14,15], [20,22,25]])\n",
        "print(np.ravel(x))\n",
        "\n",
        "#To compress an array\n",
        "x= np.array([[1,2,3],[4,5,6],[7,8,9]])\n",
        "y=np.compress([True,False,True], x, axis=0)\n",
        "y\n",
        "\n",
        "#conditional function\n",
        "x= np.array([[1,2,3],[4,5,6],[7,8,9]])\n",
        "y= np.where(x>5, x, 5*x)\n",
        "y\n",
        "\n",
        "#get flag values\n",
        "x = np.array([2,4,6]) \n",
        "print(x.flags)\n",
        "\n",
        "#sort an array\n",
        "a = np.array([1,4,3,2,5,7,6,9,8]).reshape(3,3)\n",
        "print(a)\n",
        "a_sorted = np.sort(a, axis=1) \n",
        "print(a_sorted)\n",
        "\n"
      ],
      "execution_count": 6,
      "outputs": [
        {
          "output_type": "stream",
          "name": "stdout",
          "text": [
            "Copied array: [10 20 30 40 50]\n",
            "[[0 1 2 3 4]\n",
            " [5 6 7 8 9]]\n",
            "Transposed array: [[2 3]\n",
            " [4 6]\n",
            " [5 7]]\n",
            "Squezed array: [1 2]\n",
            "Sub arrays':  [array([3, 4]), array([5, 9]), array([0, 7])]\n",
            "Modified array:  [3 3 3 4 4 4 5 5 5 9 9 9 0 0 0 7 7 7]\n",
            "[10 20 30 40 50 10 20 30 40 50]\n",
            "Unique elements of array:  [1 2 3 4]\n",
            "Array after insertion:  [3 4 5 1 9 0 7]\n",
            "Array after insertion at the end:  [3 4 5 9 0 7 2 3]\n",
            "[2 3 4 0 1]\n",
            "Array after deletion:  [[2 5]\n",
            " [3 7]]\n",
            "Reveresed array:  [7 0 9 5 4 3]\n",
            "[11 12 13 15 16 18 20]\n",
            "[11 14 15 20 22 25]\n",
            "  C_CONTIGUOUS : True\n",
            "  F_CONTIGUOUS : True\n",
            "  OWNDATA : True\n",
            "  WRITEABLE : True\n",
            "  ALIGNED : True\n",
            "  WRITEBACKIFCOPY : False\n",
            "  UPDATEIFCOPY : False\n",
            "\n",
            "[[1 4 3]\n",
            " [2 5 7]\n",
            " [6 9 8]]\n",
            "[[1 3 4]\n",
            " [2 5 7]\n",
            " [6 8 9]]\n"
          ]
        }
      ]
    },
    {
      "cell_type": "markdown",
      "metadata": {
        "id": "ztqLrB9tu2nt"
      },
      "source": [
        "# 5. Attributes of an array\n",
        "Just like functions and methods, a NumPy array has attributes!\n",
        "This section is completely open, unstructured!\n",
        "Please go ahead and add all the interesting attributes you've discovered! (Mention appropriate description as comments for the same)"
      ]
    },
    {
      "cell_type": "code",
      "metadata": {
        "colab": {
          "base_uri": "https://localhost:8080/"
        },
        "id": "h88U3jT1vL8Q",
        "outputId": "251c6f30-db13-41a3-f765-8e94f37151c6"
      },
      "source": [
        "# Transpose of arr2\n",
        "print(\"Transpose of arr2: \")\n",
        "print(arr2.T)\n",
        "\n",
        "# To get datatype of array elements\n",
        "print(\"Datatype of elements in arr1: \", arr1.dtype)\n",
        "\n",
        "# To get the real part of the array.\n",
        "print(\"Real part of arr1: \", arr1.real)\n",
        "\n",
        "# To get the imaginary part of the array.\n",
        "print(\"Imaginary part of arr1: \", arr1.imag)\n",
        "\n",
        "# To get the size of each element (in bytes)\n",
        "print(\"Size of each element in arr2: \", arr2.itemsize)\n",
        "\n",
        "# To get the shape of an array\n",
        "print(\"Shape of arr2: \", arr2.shape)\n",
        "\n",
        "# To get the number of elements in an array\n",
        "print(\"Number of elements in arr2: \", arr2.size)\n",
        "\n",
        "# To get the dimension of the array\n",
        "print(\"Dimension of arr3: \", arr3.ndim)\n",
        "\n",
        "# To get total bytes consumed by the elements of the array\n",
        "print(\"Total number of bytes consumed by arr2:\", arr2.nbytes)\n",
        "\n",
        "# Base object if memory is from some other object.\n",
        "print(\"Base Object of arr1: \", arr1.base)\n",
        "\n",
        "# To get the Information about the memory layout of the array\n",
        "print(\"\\n About arr1:\")\n",
        "print(arr1.flags)"
      ],
      "execution_count": null,
      "outputs": [
        {
          "name": "stdout",
          "output_type": "stream",
          "text": [
            "Transpose of arr2: \n",
            "[[0 1]\n",
            " [2 3]\n",
            " [4 5]]\n",
            "Datatype of elements in arr1:  int64\n",
            "Real part of arr1:  [10 20 30 40 50]\n",
            "Imaginary part of arr1:  [0 0 0 0 0]\n",
            "Size of each element in arr2:  8\n",
            "Shape of arr2:  (2, 3)\n",
            "Number of elements in arr2:  6\n",
            "Dimension of arr3:  3\n",
            "Total number of bytes consumed by arr2: 48\n",
            "Base Object of arr1:  None\n",
            "\n",
            " About arr1:\n",
            "  C_CONTIGUOUS : True\n",
            "  F_CONTIGUOUS : True\n",
            "  OWNDATA : True\n",
            "  WRITEABLE : True\n",
            "  ALIGNED : True\n",
            "  WRITEBACKIFCOPY : False\n",
            "  UPDATEIFCOPY : False\n",
            "\n"
          ]
        }
      ]
    },
    {
      "cell_type": "markdown",
      "metadata": {
        "id": "DmLW18s2wEX4"
      },
      "source": [
        "# 6. Matrix operations\n",
        "- Inner product\n",
        "- Dot product\n",
        "- Transpose\n",
        "- Trace\n",
        "- Rank\n",
        "- Determinant\n",
        "- True inverse\n",
        "- Pseudo inverse\n",
        "- Flatten\n",
        "- Eigenvalues and eigenvectors\n",
        "\n",
        "*Note: understand the @ operator and its significance!*"
      ]
    },
    {
      "cell_type": "code",
      "metadata": {
        "id": "YJxtNVtPwttM",
        "outputId": "29cc19dd-aad7-42a4-9261-9a83eea02671"
      },
      "source": [
        "# TODO: Inner product\n",
        "#The inner product takes two vectors of equal size and returns a single number (scalar). This is calculated by multiplying the corresponding elements in each vector and adding up all of those products. In numpy, vectors are defined as one-dimensional numpy arrays.\n",
        "import numpy as np\n",
        "# Vectors as 1D numpy arrays\n",
        "a = np.array([1, 2, 3])\n",
        "b = np.array([4, 5, 6])\n",
        "print(\"Inner Product\")\n",
        "print(\"a= \", a)\n",
        "print(\"b= \", b)\n",
        "print(\"inner:\", np.inner(a, b))\n",
        "print(\"dot:\", np.dot(a, b))\n",
        "\n",
        "\n",
        "# TODO: Dot product\n",
        "# The dot product is defined for matrices. It is the sum of the products of the corresponding elements in the two matrices. To get the dot product, the number of columns in the first matrix should be equal to the number of rows in the second matrix.\n",
        "# There are two ways to create matrices in numpy. The most common one is to use the numpy ndarray class. Here we create two-dimensional numpy arrays (ndarray objects). The other one is to use the numpy matrix class.\n",
        "# Matrices as ndarray objects\n",
        "a = np.array([[1, 2], [3, 4]])\n",
        "b = np.array([[5, 6, 7], [8, 9, 10]])\n",
        "print(\"\\nDot Product\")\n",
        "print(\"a\", type(a))\n",
        "print(a)\n",
        "print(\"b\", type(b))\n",
        "print(b)\n",
        "\n",
        "# Matrices as matrix objects\n",
        "c = np.matrix([[1, 2], [3, 4]])\n",
        "d = np.matrix([[5, 6, 7], [8, 9, 10]])\n",
        "print(\"c\", type(c))\n",
        "print(c)\n",
        "print(\"d\", type(d))\n",
        "print(d)\n",
        "print(\"dot product of two ndarray objects\")\n",
        "print(np.dot(a, b))\n",
        "print(\"dot product of two matrix objects\")\n",
        "print(np.dot(c, d))\n",
        "\n",
        "# TODO: Transpose\n",
        "#The transpose of a matrix is found by switching its rows with its columns. We can use np.transpose() function or NumPy ndarray.transpose() method or ndarray.\n",
        "print(\"\\nTranspose\")\n",
        "arr3 = np.array([[1, 2], [3, 4], [5, 6]])\n",
        "print(\"a = \",arr3)\n",
        "print(\"With np.transpose(a) function\")\n",
        "print(np.transpose(arr3))\n",
        "\n",
        "print(\"With ndarray.transpose() method\")\n",
        "print(arr3.transpose())\n",
        "\n",
        "print(\"With ndarray.T short form\")\n",
        "print(arr3.T)\n",
        "\n",
        "# TODO: Trace\n",
        "#The trace is the sum of diagonal elements in a square matrix. There are two methods to calculate the trace. We can simply use the trace() method of an ndarray object or get the diagonal elements first and then get the sum.\n",
        "print(\"\\nTrace\")\n",
        "print(\"a = \",arr3)\n",
        "print(\"Trace:\", arr3.trace())\n",
        "print(\"Trace:\", sum(arr3.diagonal()))\n",
        "\n",
        "# TODO: Rank\n",
        "# The rank of a matrix is the dimensions of the vector space spanned (generated) by its columns or rows. In other words, it can be defined as the maximum number of linearly independent column vectors or row vectors.\n",
        "print(\"\\nRank\")\n",
        "a = np.arange(1, 10)\n",
        "a.shape = (3, 3)\n",
        "print(\"a = \",a)\n",
        "rank = np.linalg.matrix_rank(a)\n",
        "print(\"Rank:\", rank)\n",
        "\n",
        "# TODO: Determinant\n",
        "# The determinant of a square matrix can be calculated det() function which also comes from the numpy linalg package. If the determinant is 0, that matrix is not invertible. It is known as a singular matrix in algebra terms.\n",
        "print(\"\\nDeterminant\")\n",
        "a = np.array([[2, 2, 1],\n",
        "               [1, 3, 1],\n",
        "               [1, 2, 2]])\n",
        "print(\"a = \",a)\n",
        "det = np.linalg.det(a)\n",
        "print(\"Determinant:\", np.round(det))\n",
        "\n",
        "# TODO: True inverse\n",
        "# The true inverse of a square matrix can be found using the inv() function of the numpy linalg package. If the determinant of a square matrix is not 0, it has a true inverse.\n",
        "print(\"\\nTrue Inverse\")\n",
        "print(\"a = \",a)\n",
        "inv = np.linalg.inv(a)\n",
        "print(\"Inverse of a = \",inv)\n",
        "\n",
        "# TODO: Pseudo inverse\n",
        "# The pseudo (not genuine) inverse can be calculated even for a singular matrix (a square matrix whose determinant is 0) using the pinv() function of the numpy linalg package.\n",
        "print(\"\\nPseudo Inverse\")\n",
        "a = np.array([[2, 8],\n",
        "               [1, 4]])\n",
        "print(\"a = \",a)\n",
        "det = np.linalg.det(a)\n",
        "print(\"Determinant:\", np.round(det))\n",
        "pinv = np.linalg.pinv(a)\n",
        "print(\"Pseudo Inverse of a = \",pinv)\n",
        "\n",
        "# TODO: Flatten\n",
        "# Flatten is a simple method to transform a matrix into a one-dimensional numpy array. \n",
        "print(\"\\nFlatten\")\n",
        "a = np.arange(1, 10)\n",
        "a.shape = (3, 3)\n",
        "print(\"a = \",a)\n",
        "print(\"After flattening\")\n",
        "print(\"------------------\")\n",
        "print(a.flatten())\n",
        "\n",
        "# TODO: Eigenvalues and eigenvectors\n",
        "# Let A be an n x n matrix. A scalar λ is called an eigenvalue of A if there is a non-zero vector x satisfying the following equation.\n",
        "# The vector x is called the eigenvector of A corresponding to λ.\n",
        "print(\"\\nEigenvalues and Eigenvectors\")\n",
        "print(\"a = \",a)\n",
        "w, v = np.linalg.eig(a)\n",
        "print(\"Eigenvalues:\")\n",
        "print(w)\n",
        "print(\"Eigenvectors:\")\n",
        "print(v)\n",
        "\n"
      ],
      "execution_count": null,
      "outputs": [
        {
          "name": "stdout",
          "output_type": "stream",
          "text": [
            "Inner Product\n",
            "a=  [1 2 3]\n",
            "b=  [4 5 6]\n",
            "inner: 32\n",
            "dot: 32\n",
            "\n",
            "Dot Product\n",
            "a <class 'numpy.ndarray'>\n",
            "[[1 2]\n",
            " [3 4]]\n",
            "b <class 'numpy.ndarray'>\n",
            "[[ 5  6  7]\n",
            " [ 8  9 10]]\n",
            "c <class 'numpy.matrix'>\n",
            "[[1 2]\n",
            " [3 4]]\n",
            "d <class 'numpy.matrix'>\n",
            "[[ 5  6  7]\n",
            " [ 8  9 10]]\n",
            "dot product of two ndarray objects\n",
            "[[21 24 27]\n",
            " [47 54 61]]\n",
            "dot product of two matrix objects\n",
            "[[21 24 27]\n",
            " [47 54 61]]\n",
            "\n",
            "Transpose\n",
            "a =  [[1 2]\n",
            " [3 4]\n",
            " [5 6]]\n",
            "With np.transpose(a) function\n",
            "[[1 3 5]\n",
            " [2 4 6]]\n",
            "With ndarray.transpose() method\n",
            "[[1 3 5]\n",
            " [2 4 6]]\n",
            "With ndarray.T short form\n",
            "[[1 3 5]\n",
            " [2 4 6]]\n",
            "\n",
            "Trace\n",
            "a =  [[1 2]\n",
            " [3 4]\n",
            " [5 6]]\n",
            "Trace: 5\n",
            "Trace: 5\n",
            "\n",
            "Rank\n",
            "a =  [[1 2 3]\n",
            " [4 5 6]\n",
            " [7 8 9]]\n",
            "Rank: 2\n",
            "\n",
            "Determinant\n",
            "a =  [[2 2 1]\n",
            " [1 3 1]\n",
            " [1 2 2]]\n",
            "Determinant: 5.0\n",
            "\n",
            "True Inverse\n",
            "a =  [[2 2 1]\n",
            " [1 3 1]\n",
            " [1 2 2]]\n",
            "Inverse of a =  [[ 0.8 -0.4 -0.2]\n",
            " [-0.2  0.6 -0.2]\n",
            " [-0.2 -0.4  0.8]]\n",
            "\n",
            "Pseudo Inverse\n",
            "a =  [[2 8]\n",
            " [1 4]]\n",
            "\n",
            "Determinant: 0.0\n",
            "\n",
            "Pseudo Inverse of a =  [[0.02352941 0.01176471]\n",
            " [0.09411765 0.04705882]]\n",
            "\n",
            "Flatten\n",
            "a =  [[1 2 3]\n",
            " [4 5 6]\n",
            " [7 8 9]]\n",
            "After flattening\n",
            "------------------\n",
            "[1 2 3 4 5 6 7 8 9]\n",
            "\n",
            "Eigenvalues and Eigenvectors\n",
            "a =  [[1 2 3]\n",
            " [4 5 6]\n",
            " [7 8 9]]\n",
            "\n",
            "Eigenvalues:\n",
            "[ 1.61168440e+01 -1.11684397e+00 -1.30367773e-15]\n",
            "\n",
            "Eigenvectors:\n",
            "[[-0.23197069 -0.78583024  0.40824829]\n",
            " [-0.52532209 -0.08675134 -0.81649658]\n",
            " [-0.8186735   0.61232756  0.40824829]]\n"
          ]
        }
      ]
    },
    {
      "cell_type": "markdown",
      "metadata": {
        "id": "lDnNLp-m2nz4"
      },
      "source": [
        "# 7. 10 useful NumPy methods you should know!\n",
        "**show histograms wherever necessary**\n",
        "- linspace\n",
        "- arange\n",
        "- digitize\n",
        "- repeat\n",
        "- histogram\n",
        "- random (what is seed, randint and different random distributions: binomial, normal, exponential, gaussian, etc., and plot their histograms)\n",
        "- polyfit\n",
        "- squeeze\n",
        "- argmax\n",
        "- loadtxt and savetxt\n",
        "\n",
        "\n"
      ]
    },
    {
      "cell_type": "code",
      "metadata": {
        "id": "lSac5Aas4BfV",
        "outputId": "b8908dcf-7a0c-430c-bc5f-402203032df3"
      },
      "source": [
        "# TODO: linspace\n",
        "# linspace(start, stop, num=50, endpoint=True, retstep=False, dtype=None, axis=0) -> tuple\n",
        "# num: int\n",
        "\n",
        "# Return evenly spaced numbers over a specified interval.\n",
        "\n",
        "# Returns num evenly spaced samples, calculated over the interval [start, stop].\n",
        "\n",
        "# The endpoint of the interval can optionally be excluded.\n",
        "\n",
        "a =  np.linspace(0,25,5) # 5 numbers from 0 to 25\n",
        "print(\"Linspace:\",a)\n",
        "x = np.linspace( 0, 2*pi, 50) # useful to evaluate function at lots of␣points\n",
        "print(\"Lotofpts:\",x)"
      ],
      "execution_count": null,
      "outputs": [
        {
          "name": "stdout",
          "output_type": "stream",
          "text": [
            "Linspace: [ 0.    6.25 12.5  18.75 25.  ]\n",
            "Lotofpts: [0.         0.12822827 0.25645654 0.38468481 0.51291309 0.64114136\n",
            " 0.76936963 0.8975979  1.02582617 1.15405444 1.28228272 1.41051099\n",
            " 1.53873926 1.66696753 1.7951958  1.92342407 2.05165235 2.17988062\n",
            " 2.30810889 2.43633716 2.56456543 2.6927937  2.82102197 2.94925025\n",
            " 3.07747852 3.20570679 3.33393506 3.46216333 3.5903916  3.71861988\n",
            " 3.84684815 3.97507642 4.10330469 4.23153296 4.35976123 4.48798951\n",
            " 4.61621778 4.74444605 4.87267432 5.00090259 5.12913086 5.25735913\n",
            " 5.38558741 5.51381568 5.64204395 5.77027222 5.89850049 6.02672876\n",
            " 6.15495704 6.28318531]\n"
          ]
        }
      ]
    },
    {
      "cell_type": "code",
      "metadata": {
        "id": "Y6ur3CIk4BY3",
        "outputId": "1155c91d-3f38-4aec-d072-a73b96f2eb42"
      },
      "source": [
        "# TODO: arange\n",
        "a = np.arange( 10, 30, 5 )  \n",
        "print(\"Arrange:\",a) #returns value in range from 10 to 30 incrementating 5"
      ],
      "execution_count": null,
      "outputs": [
        {
          "name": "stdout",
          "output_type": "stream",
          "text": [
            "Arrange: [10 15 20 25]\n"
          ]
        }
      ]
    },
    {
      "cell_type": "code",
      "metadata": {
        "id": "i6SrOPQl4BSd",
        "outputId": "dd37e77e-c1d6-4a22-a1c4-45dca9b0922f"
      },
      "source": [
        "# TODO: digitize\n",
        "# np.digitize(Array, Bin, Right) \n",
        "# Return the indices of the bins to which each value in input array belongs.\n",
        "\n",
        "bins = np.array([1.0, 1.3, 2.5, 4.0, 10.0])\n",
        "\n",
        "a = np.digitize(arr1, bins) #default right=False\n",
        "b = np.digitize(arr1, bins, right=True)\n",
        "print(\"Digitize:\",a)\n",
        "print(b)"
      ],
      "execution_count": null,
      "outputs": [
        {
          "name": "stdout",
          "output_type": "stream",
          "text": [
            "Digitize: [5 5 5 5 5]\n",
            "[4 5 5 5 5]\n"
          ]
        }
      ]
    },
    {
      "cell_type": "code",
      "metadata": {
        "id": "uiy4Aa3x4BLs",
        "outputId": "e3a20ce9-0aba-4ecb-849d-b6cea7006d7f"
      },
      "source": [
        "# TODO: repeat\n",
        "#  np.repeat(a = the input array you want to operate,repeats= the no of times you want to repeat each element,axis= the axis along which to repeat the values)\n",
        "a = np.repeat(arr1, repeats = 4)\n",
        "b = np.repeat(arr2, repeats = 2, axis = 0) #axis works only for 2d and 3d\n",
        "c = np.repeat(arr2, repeats = 2, axis = 1)\n",
        "print(\"Repeat:\",a)\n",
        "print(\"Repeat Axis 0:\",b)\n",
        "print(\"Repeat Axis 1:\",c)"
      ],
      "execution_count": null,
      "outputs": [
        {
          "name": "stdout",
          "output_type": "stream",
          "text": [
            "Repeat: [10 10 10 10 20 20 20 20 30 30 30 30 40 40 40 40 50 50 50 50]\n",
            "Repeat Axis 0: [[0 2 4]\n",
            " [0 2 4]\n",
            " [1 3 5]\n",
            " [1 3 5]]\n",
            "Repeat Axis 1: [[0 0 2 2 4 4]\n",
            " [1 1 3 3 5 5]]\n"
          ]
        }
      ]
    },
    {
      "cell_type": "code",
      "metadata": {
        "id": "JdnerfxO4BGL",
        "outputId": "5b7a9f7a-3a8d-4035-ee71-cfe783ecca98"
      },
      "source": [
        "# TODO: histogram\n",
        "# numpy.histogram(data, bins=10, range=None, normed=None, weights=None, density=None)\n",
        "# It represents the frequency of data distribution in the graphical form. The rectangles having equal horizontal size corresponds to class interval called bin and variable height corresponding to the frequency.\n",
        "# Creating dataset\n",
        "a = np.random.randint(100, size =(50))\n",
        "# Creating histogram\n",
        "np.histogram(a, bins = [0, 10, 20, 30, 40,\n",
        "                        50, 60, 70, 80, 90,\n",
        "                        100])\n",
        "  \n",
        "hist, bins = np.histogram(a, bins = [0, 10, \n",
        "                                     20, 30,\n",
        "                                     40, 50,\n",
        "                                     60, 70,\n",
        "                                     80, 90,\n",
        "                                     100]) \n",
        "  \n",
        "# printing histogram\n",
        "print (\"Histogram:\",hist) \n",
        "print (\"Bins:\",bins) \n",
        "\n",
        "# Graphical representation\n",
        "\n",
        "from matplotlib import pyplot as plt \n",
        "# Creating dataset\n",
        "a = np.random.randint(100, size =(50))\n",
        "# Creating plot\n",
        "fig = plt.figure(figsize =(10, 7))\n",
        "plt.hist(a, bins = [0, 10, 20, 30,\n",
        "                    40, 50, 60, 70,\n",
        "                    80, 90, 100]) \n",
        "plt.title(\"Numpy Histogram\") \n",
        "# show plot\n",
        "plt.show() "
      ],
      "execution_count": null,
      "outputs": [
        {
          "name": "stdout",
          "output_type": "stream",
          "text": [
            "Histogram: [6 3 5 4 5 6 6 4 8 3]\n",
            "Bins: [  0  10  20  30  40  50  60  70  80  90 100]\n"
          ]
        },
        {
          "data": {
            "image/png": "[encoded data removed]",
            "text/plain": [
              "<Figure size 720x504 with 1 Axes>"
            ]
          },
          "metadata": {
            "needs_background": "light"
          },
          "output_type": "display_data"
        }
      ]
    },
    {
      "cell_type": "code",
      "metadata": {
        "id": "Xbd2LIcB4BBf",
        "outputId": "ff4ded38-861a-48e9-b601-a12c312b4cda"
      },
      "source": [
        "# TODO: random\n",
        "# The randint() method takes a size parameter where you can specify the shape of an array.\n",
        "a = np.random.randint(100,size=(5))\n",
        "print(\"Randint:\",a)\n",
        "\n",
        "# The random module's rand() method returns a random float between 0 and 1.\n",
        "b = np.random.rand()\n",
        "print(\"Rand:\",b)\n",
        "\n",
        "# The choice() method allows you to generate a random value based on an array of values.\n",
        "# The choice() method takes an array as a parameter and randomly returns one of the values.\n",
        "c = np.random.choice([3, 5, 7, 9], size=(3, 5))\n",
        "print(\"Choice:\",c)"
      ],
      "execution_count": null,
      "outputs": [
        {
          "name": "stdout",
          "output_type": "stream",
          "text": [
            "Randint: [13 17 86 74 55]\n",
            "Rand: 0.11842539525654916\n",
            "Choice: [[7 7 3 3 3]\n",
            " [3 3 5 9 3]\n",
            " [7 5 3 3 9]]\n"
          ]
        }
      ]
    },
    {
      "cell_type": "code",
      "metadata": {
        "id": "6n58A-6_4Avv",
        "outputId": "884c2f86-a420-4ab2-f6d2-949e8aef36ac"
      },
      "source": [
        "# TODO: polyfit\n",
        "# numpy.polyfit(x, y, deg, rcond=None, full=False, w=None, cov=False)\n",
        "x = [1,2,3,4]\n",
        "y = [5,9,13,16]\n",
        "print(np.polyfit(x,y,2))\n",
        "print(np.polyfit(x,y,2,full=\"true\"))\n",
        "print(np.polyfit(x,y,2,full=\"false\",cov=\"true\"))\n",
        "\n",
        "import matplotlib.pyplot as plt\n",
        "coef = np.polyfit(x,y,1)\n",
        "poly1d_fn = np.poly1d(coef) \n",
        "plt.plot(x,y, 'yo', x, poly1d_fn(x))\n",
        "plt.xlim(0, 5)\n",
        "plt.ylim(0, 20)\n",
        "plt.title(\"Numpy Polyfill\") \n",
        "plt.show()"
      ],
      "execution_count": null,
      "outputs": [
        {
          "name": "stdout",
          "output_type": "stream",
          "text": [
            "[-0.25  4.95  0.25]\n",
            "(array([-0.25,  4.95,  0.25]), array([0.05]), 3, array([1.66999514, 0.45592508, 0.05699596]), 8.881784197001252e-16)\n",
            "(array([-0.25,  4.95,  0.25]), array([0.05]), 3, array([1.66999514, 0.45592508, 0.05699596]), 8.881784197001252e-16)\n"
          ]
        },
        {
          "data": {
            "image/png": "[encoded data removed]",
            "text/plain": [
              "<Figure size 432x288 with 1 Axes>"
            ]
          },
          "metadata": {
            "needs_background": "light"
          },
          "output_type": "display_data"
        }
      ]
    },
    {
      "cell_type": "code",
      "metadata": {
        "id": "oKXfkaqy4An2",
        "outputId": "3d0f1a23-2f18-4f11-f1a1-a584380a279e"
      },
      "source": [
        "# TODO: squeeze\n",
        "# numpy.squeeze(arr, axis=None )\n",
        "# squeezed [ndarray] The input array, but with all or a subset of the dimensions of length 1 removed. This is always a itself or a view into arr.\n",
        "print (\"Input array : \", arr2) \n",
        "print(\"Shape of input array : \", arr2.shape)  \n",
        "out_arr = np.squeeze(arr2) \n",
        "print (\"Output squeezed array : \", out_arr)\n",
        "print(\"Shape of output array : \", out_arr.shape) "
      ],
      "execution_count": null,
      "outputs": [
        {
          "name": "stdout",
          "output_type": "stream",
          "text": [
            "Input array :  [[0 2 4]\n",
            " [1 3 5]]\n",
            "Shape of input array :  (2, 3)\n",
            "output squeezed array :  [[0 2 4]\n",
            " [1 3 5]]\n",
            "Shape of output array :  (2, 3)\n"
          ]
        }
      ]
    },
    {
      "cell_type": "code",
      "metadata": {
        "id": "fUdXK3d64AbX",
        "outputId": "ffe64b65-1709-42ea-a62a-c01b60d048b6"
      },
      "source": [
        "# TODO: argmax\n",
        "# numpy.argmax(array, axis = None, out = None)\n",
        "# Array of indices into the array with same shape as array.shape with the dimension along axis removed.\n",
        "# Working on 2D array\n",
        "print(\"INPUT ARRAY : \\n\", arr2)\n",
        "# No axis mentioned, so works on entire array\n",
        "print(\"Max element : \", np.argmax(arr2))\n",
        "# returning Indices of the max element\n",
        "# as per the indices\n",
        "print(\"Indices of Max element : \", np.argmax(arr2, axis=0))\n",
        "print(\"Indices of Max element : \", np.argmax(arr2, axis=1))"
      ],
      "execution_count": null,
      "outputs": [
        {
          "name": "stdout",
          "output_type": "stream",
          "text": [
            "INPUT ARRAY : \n",
            " [[0 2 4]\n",
            " [1 3 5]]\n",
            "Max element :  5\n",
            "Indices of Max element :  [1 1 1]\n",
            "Indices of Max element :  [2 2]\n"
          ]
        }
      ]
    },
    {
      "cell_type": "code",
      "metadata": {
        "id": "85MT5Pt_3__w",
        "outputId": "ae1357c0-6a1b-40f6-8b6d-7435634e1e75"
      },
      "source": [
        "# TODO: loadtxt and savetxt\n",
        "# numpy.load() in Python is used load data from a text file, with aim to be a fast reader for simple text files.\\\n",
        "# loadtxt() function\n",
        "# StringIO behaves like a file object\n",
        "from io import StringIO   \n",
        "c = StringIO(\"0 1 2 \\n3 4 5\")\n",
        "d = np.loadtxt(c)\n",
        "print(\"load Text:\",d)\n",
        "\n",
        "# numpy.savetxt(fname, X, fmt='%.18e', delimiter=' ', newline='\\n', header='', footer='', comments='# ', encoding=None) \n",
        "# This method is used to save an array to a text file.\n",
        "x = np.arange(0, 10, 1)\n",
        "print(\"\\nSave Text:\")\n",
        "print(\"x is:\",x)\n",
        "# X is an array\n",
        "c = np.savetxt('npfile.txt', x, delimiter =', ')   \n",
        "a = open(\"npfile.txt\", 'r')# open file in read mode\n",
        "print(\"The file contains:\")\n",
        "print(a.read())"
      ],
      "execution_count": null,
      "outputs": [
        {
          "name": "stdout",
          "output_type": "stream",
          "text": [
            "load Text: [[0. 1. 2.]\n",
            " [3. 4. 5.]]\n",
            "\n",
            "Save Text:\n",
            "x is: [0 1 2 3 4 5 6 7 8 9]\n",
            "The file contains:\n",
            "0.000000000000000000e+00\n",
            "1.000000000000000000e+00\n",
            "2.000000000000000000e+00\n",
            "3.000000000000000000e+00\n",
            "4.000000000000000000e+00\n",
            "5.000000000000000000e+00\n",
            "6.000000000000000000e+00\n",
            "7.000000000000000000e+00\n",
            "8.000000000000000000e+00\n",
            "9.000000000000000000e+00\n",
            "\n"
          ]
        }
      ]
    },
    {
      "cell_type": "markdown",
      "metadata": {
        "id": "BI2qJkwA5FpB"
      },
      "source": [
        "\n",
        "\n",
        "---\n",
        "\n",
        "\n",
        "# **Congratulations!**\n",
        "## Now you know how to perform basic linear algebra operations with NumPy to get you started with deep learning!\n",
        "\n",
        "### Proceed to chapter 2 to learn about DataFrames and how to handle them with pandas!"
      ]
    }
  ]
}
